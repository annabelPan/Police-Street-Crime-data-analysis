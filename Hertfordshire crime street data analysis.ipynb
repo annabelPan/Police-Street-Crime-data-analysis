{
 "cells": [
  {
   "cell_type": "code",
   "execution_count": 55,
   "metadata": {},
   "outputs": [],
   "source": [
    "#Importing librairies\n",
    "\n",
    "import pandas as pd\n",
    "import numpy as np\n",
    "\n",
    "pd.set_option('display.max_rows', 500)\n",
    "pd.set_option('display.max_columns', 500)\n",
    "pd.set_option('display.width', 1000)\n",
    "\n",
    "\n",
    "\n",
    "import itertools\n",
    "\n",
    "# Matplotlib library to plot the charts\n",
    "import matplotlib.pyplot as plt\n",
    "import matplotlib.mlab as mlab\n",
    "import matplotlib as mpl\n",
    "\n",
    "# Library for the statistic data vizualisation\n",
    "import seaborn as sns\n",
    "\n",
    "\n",
    "# Scikit-learn library: \n",
    "from sklearn import preprocessing\n",
    "from sklearn.metrics import confusion_matrix\n",
    "from sklearn.metrics import classification_report\n",
    "import sklearn.metrics as metrics\n",
    "\n",
    "from sklearn.model_selection import GridSearchCV\n",
    "\n",
    "#Import time related library\n",
    "import datetime\n",
    "import requests\n",
    "import time"
   ]
  },
  {
   "cell_type": "code",
   "execution_count": 56,
   "metadata": {},
   "outputs": [],
   "source": [
    "import os, glob\n",
    "path = r\"C:\\Users\\annab\\OneDrive\\Documents\\Python jobs\\Hertfordshire Crime data analysis\"\n",
    "all_files = glob.glob(os.path.join(path, \"2020-*\"+\"-hertfordshire-street.csv\"))\n",
    "\n",
    "df_from_each_file = (pd.read_csv(f, sep=',') for f in all_files)\n",
    "df_merged_2020   = pd.concat(df_from_each_file, ignore_index=True)\n",
    "df_merged_2020.to_csv( \"2020_merged_crime street_data.csv\")"
   ]
  },
  {
   "cell_type": "code",
   "execution_count": 57,
   "metadata": {},
   "outputs": [
    {
     "data": {
      "text/html": [
       "<div>\n",
       "<style scoped>\n",
       "    .dataframe tbody tr th:only-of-type {\n",
       "        vertical-align: middle;\n",
       "    }\n",
       "\n",
       "    .dataframe tbody tr th {\n",
       "        vertical-align: top;\n",
       "    }\n",
       "\n",
       "    .dataframe thead th {\n",
       "        text-align: right;\n",
       "    }\n",
       "</style>\n",
       "<table border=\"1\" class=\"dataframe\">\n",
       "  <thead>\n",
       "    <tr style=\"text-align: right;\">\n",
       "      <th></th>\n",
       "      <th>Crime ID</th>\n",
       "      <th>Month</th>\n",
       "      <th>Reported by</th>\n",
       "      <th>Falls within</th>\n",
       "      <th>Longitude</th>\n",
       "      <th>Latitude</th>\n",
       "      <th>Location</th>\n",
       "      <th>LSOA code</th>\n",
       "      <th>LSOA name</th>\n",
       "      <th>Crime type</th>\n",
       "      <th>Last outcome category</th>\n",
       "      <th>Context</th>\n",
       "    </tr>\n",
       "  </thead>\n",
       "  <tbody>\n",
       "    <tr>\n",
       "      <th>0</th>\n",
       "      <td>aee55a4328cf0afd21edd5675ec6012be2e88590d599a7...</td>\n",
       "      <td>2020-01</td>\n",
       "      <td>Hertfordshire Constabulary</td>\n",
       "      <td>Hertfordshire Constabulary</td>\n",
       "      <td>-0.572494</td>\n",
       "      <td>51.819503</td>\n",
       "      <td>On or near B4506</td>\n",
       "      <td>E01017657</td>\n",
       "      <td>Aylesbury Vale 009C</td>\n",
       "      <td>Criminal damage and arson</td>\n",
       "      <td>Investigation complete; no suspect identified</td>\n",
       "      <td>NaN</td>\n",
       "    </tr>\n",
       "    <tr>\n",
       "      <th>1</th>\n",
       "      <td>bb98cd9921e97a9a91732fe6dc591aac1bd4dfbe796e14...</td>\n",
       "      <td>2020-01</td>\n",
       "      <td>Hertfordshire Constabulary</td>\n",
       "      <td>Hertfordshire Constabulary</td>\n",
       "      <td>-0.805749</td>\n",
       "      <td>51.798149</td>\n",
       "      <td>On or near Lower Road</td>\n",
       "      <td>E01017687</td>\n",
       "      <td>Aylesbury Vale 019A</td>\n",
       "      <td>Violence and sexual offences</td>\n",
       "      <td>Status update unavailable</td>\n",
       "      <td>NaN</td>\n",
       "    </tr>\n",
       "    <tr>\n",
       "      <th>2</th>\n",
       "      <td>d71f4c982666547c2b1c8103a97aba230f2a606b8ef5e2...</td>\n",
       "      <td>2020-01</td>\n",
       "      <td>Hertfordshire Constabulary</td>\n",
       "      <td>Hertfordshire Constabulary</td>\n",
       "      <td>-0.690612</td>\n",
       "      <td>51.792392</td>\n",
       "      <td>On or near Tring Hill</td>\n",
       "      <td>E01017629</td>\n",
       "      <td>Aylesbury Vale 021C</td>\n",
       "      <td>Burglary</td>\n",
       "      <td>Investigation complete; no suspect identified</td>\n",
       "      <td>NaN</td>\n",
       "    </tr>\n",
       "    <tr>\n",
       "      <th>3</th>\n",
       "      <td>260b88c1d30bf6a435f62f58618ebe2326923d1ccd7722...</td>\n",
       "      <td>2020-01</td>\n",
       "      <td>Hertfordshire Constabulary</td>\n",
       "      <td>Hertfordshire Constabulary</td>\n",
       "      <td>-0.209422</td>\n",
       "      <td>51.658891</td>\n",
       "      <td>On or near Calvert Road</td>\n",
       "      <td>E01000249</td>\n",
       "      <td>Barnet 001B</td>\n",
       "      <td>Other theft</td>\n",
       "      <td>Investigation complete; no suspect identified</td>\n",
       "      <td>NaN</td>\n",
       "    </tr>\n",
       "    <tr>\n",
       "      <th>4</th>\n",
       "      <td>3c88c9532369f734b808e9a12fe4eb477d46f6a0914dab...</td>\n",
       "      <td>2020-01</td>\n",
       "      <td>Hertfordshire Constabulary</td>\n",
       "      <td>Hertfordshire Constabulary</td>\n",
       "      <td>-0.198566</td>\n",
       "      <td>51.643150</td>\n",
       "      <td>On or near Meadow Close</td>\n",
       "      <td>E01000289</td>\n",
       "      <td>Barnet 004D</td>\n",
       "      <td>Violence and sexual offences</td>\n",
       "      <td>Unable to prosecute suspect</td>\n",
       "      <td>NaN</td>\n",
       "    </tr>\n",
       "  </tbody>\n",
       "</table>\n",
       "</div>"
      ],
      "text/plain": [
       "                                            Crime ID    Month                 Reported by                Falls within  Longitude   Latitude                 Location  LSOA code            LSOA name                    Crime type                          Last outcome category  Context\n",
       "0  aee55a4328cf0afd21edd5675ec6012be2e88590d599a7...  2020-01  Hertfordshire Constabulary  Hertfordshire Constabulary  -0.572494  51.819503         On or near B4506  E01017657  Aylesbury Vale 009C     Criminal damage and arson  Investigation complete; no suspect identified      NaN\n",
       "1  bb98cd9921e97a9a91732fe6dc591aac1bd4dfbe796e14...  2020-01  Hertfordshire Constabulary  Hertfordshire Constabulary  -0.805749  51.798149    On or near Lower Road  E01017687  Aylesbury Vale 019A  Violence and sexual offences                      Status update unavailable      NaN\n",
       "2  d71f4c982666547c2b1c8103a97aba230f2a606b8ef5e2...  2020-01  Hertfordshire Constabulary  Hertfordshire Constabulary  -0.690612  51.792392    On or near Tring Hill  E01017629  Aylesbury Vale 021C                      Burglary  Investigation complete; no suspect identified      NaN\n",
       "3  260b88c1d30bf6a435f62f58618ebe2326923d1ccd7722...  2020-01  Hertfordshire Constabulary  Hertfordshire Constabulary  -0.209422  51.658891  On or near Calvert Road  E01000249          Barnet 001B                   Other theft  Investigation complete; no suspect identified      NaN\n",
       "4  3c88c9532369f734b808e9a12fe4eb477d46f6a0914dab...  2020-01  Hertfordshire Constabulary  Hertfordshire Constabulary  -0.198566  51.643150  On or near Meadow Close  E01000289          Barnet 004D  Violence and sexual offences                    Unable to prosecute suspect      NaN"
      ]
     },
     "execution_count": 57,
     "metadata": {},
     "output_type": "execute_result"
    }
   ],
   "source": [
    "street=df_merged_2020.copy()\n",
    "street.head()"
   ]
  },
  {
   "cell_type": "code",
   "execution_count": 58,
   "metadata": {},
   "outputs": [
    {
     "data": {
      "text/plain": [
       "(104149, 12)"
      ]
     },
     "execution_count": 58,
     "metadata": {},
     "output_type": "execute_result"
    }
   ],
   "source": [
    "street.shape"
   ]
  },
  {
   "cell_type": "code",
   "execution_count": 59,
   "metadata": {},
   "outputs": [
    {
     "data": {
      "text/plain": [
       "Crime ID                  27745\n",
       "Month                         0\n",
       "Reported by                   0\n",
       "Falls within                  0\n",
       "Longitude                  1256\n",
       "Latitude                   1256\n",
       "Location                      0\n",
       "LSOA code                  1256\n",
       "LSOA name                  1256\n",
       "Crime type                    0\n",
       "Last outcome category     27745\n",
       "Context                  104149\n",
       "dtype: int64"
      ]
     },
     "execution_count": 59,
     "metadata": {},
     "output_type": "execute_result"
    }
   ],
   "source": [
    "street.isnull().sum()"
   ]
  },
  {
   "cell_type": "code",
   "execution_count": 60,
   "metadata": {},
   "outputs": [
    {
     "data": {
      "text/plain": [
       "(104149, 11)"
      ]
     },
     "execution_count": 60,
     "metadata": {},
     "output_type": "execute_result"
    }
   ],
   "source": [
    "# Get rid of 'Context' column because it has no record, we also don't need 'Crime ID' because we have 'Crime type'\n",
    "street.drop(['Context'],axis=1,inplace=True)\n",
    "street.shape"
   ]
  },
  {
   "cell_type": "code",
   "execution_count": 62,
   "metadata": {},
   "outputs": [
    {
     "data": {
      "text/plain": [
       "Crime ID                 27745\n",
       "Month                        0\n",
       "Reported by                  0\n",
       "Falls within                 0\n",
       "Longitude                 1256\n",
       "Latitude                  1256\n",
       "Location                     0\n",
       "LSOA name                 1256\n",
       "Crime type                   0\n",
       "Last outcome category    27745\n",
       "dtype: int64"
      ]
     },
     "execution_count": 62,
     "metadata": {},
     "output_type": "execute_result"
    }
   ],
   "source": [
    "# Drop column: We can drop'LSOA code' as we have 'LSOA name'\n",
    "street.drop('LSOA code',axis=1,inplace=True)\n",
    "street.isnull().sum()"
   ]
  },
  {
   "cell_type": "code",
   "execution_count": 63,
   "metadata": {},
   "outputs": [
    {
     "data": {
      "text/plain": [
       "Crime ID                 27745\n",
       "Month                        0\n",
       "Reported by                  0\n",
       "Falls within                 0\n",
       "Location                     0\n",
       "LSOA name                 1256\n",
       "Crime type                   0\n",
       "Last outcome category    27745\n",
       "dtype: int64"
      ]
     },
     "execution_count": 63,
     "metadata": {},
     "output_type": "execute_result"
    }
   ],
   "source": [
    "# We don't need 'Longitude' and 'Latitude' for this case becuase we have 'LSOA name'\n",
    "street.drop(['Longitude','Latitude'],axis=1,inplace=True)\n",
    "street.isnull().sum()"
   ]
  },
  {
   "cell_type": "code",
   "execution_count": 64,
   "metadata": {},
   "outputs": [
    {
     "data": {
      "text/plain": [
       "Crime ID                 0\n",
       "Month                    0\n",
       "Reported by              0\n",
       "Falls within             0\n",
       "Location                 0\n",
       "LSOA name                0\n",
       "Crime type               0\n",
       "Last outcome category    0\n",
       "dtype: int64"
      ]
     },
     "execution_count": 64,
     "metadata": {},
     "output_type": "execute_result"
    }
   ],
   "source": [
    "# drop missing rows in Crime ID\n",
    "street.dropna(subset=['Crime ID','LSOA name'],inplace=True)\n",
    "street.isnull().sum()"
   ]
  },
  {
   "cell_type": "code",
   "execution_count": 65,
   "metadata": {},
   "outputs": [
    {
     "data": {
      "text/html": [
       "<div>\n",
       "<style scoped>\n",
       "    .dataframe tbody tr th:only-of-type {\n",
       "        vertical-align: middle;\n",
       "    }\n",
       "\n",
       "    .dataframe tbody tr th {\n",
       "        vertical-align: top;\n",
       "    }\n",
       "\n",
       "    .dataframe thead th {\n",
       "        text-align: right;\n",
       "    }\n",
       "</style>\n",
       "<table border=\"1\" class=\"dataframe\">\n",
       "  <thead>\n",
       "    <tr style=\"text-align: right;\">\n",
       "      <th></th>\n",
       "      <th>Crime ID</th>\n",
       "      <th>Month</th>\n",
       "      <th>Reported by</th>\n",
       "      <th>Falls within</th>\n",
       "      <th>Location</th>\n",
       "      <th>LSOA name</th>\n",
       "      <th>Crime type</th>\n",
       "      <th>Last outcome category</th>\n",
       "    </tr>\n",
       "  </thead>\n",
       "  <tbody>\n",
       "    <tr>\n",
       "      <th>0</th>\n",
       "      <td>aee55a4328cf0afd21edd5675ec6012be2e88590d599a7...</td>\n",
       "      <td>2020-01</td>\n",
       "      <td>Hertfordshire Constabulary</td>\n",
       "      <td>Hertfordshire Constabulary</td>\n",
       "      <td>On or near B4506</td>\n",
       "      <td>Aylesbury Vale 009C</td>\n",
       "      <td>Criminal damage and arson</td>\n",
       "      <td>Investigation complete; no suspect identified</td>\n",
       "    </tr>\n",
       "    <tr>\n",
       "      <th>1</th>\n",
       "      <td>bb98cd9921e97a9a91732fe6dc591aac1bd4dfbe796e14...</td>\n",
       "      <td>2020-01</td>\n",
       "      <td>Hertfordshire Constabulary</td>\n",
       "      <td>Hertfordshire Constabulary</td>\n",
       "      <td>On or near Lower Road</td>\n",
       "      <td>Aylesbury Vale 019A</td>\n",
       "      <td>Violence and sexual offences</td>\n",
       "      <td>Status update unavailable</td>\n",
       "    </tr>\n",
       "    <tr>\n",
       "      <th>2</th>\n",
       "      <td>d71f4c982666547c2b1c8103a97aba230f2a606b8ef5e2...</td>\n",
       "      <td>2020-01</td>\n",
       "      <td>Hertfordshire Constabulary</td>\n",
       "      <td>Hertfordshire Constabulary</td>\n",
       "      <td>On or near Tring Hill</td>\n",
       "      <td>Aylesbury Vale 021C</td>\n",
       "      <td>Burglary</td>\n",
       "      <td>Investigation complete; no suspect identified</td>\n",
       "    </tr>\n",
       "    <tr>\n",
       "      <th>3</th>\n",
       "      <td>260b88c1d30bf6a435f62f58618ebe2326923d1ccd7722...</td>\n",
       "      <td>2020-01</td>\n",
       "      <td>Hertfordshire Constabulary</td>\n",
       "      <td>Hertfordshire Constabulary</td>\n",
       "      <td>On or near Calvert Road</td>\n",
       "      <td>Barnet 001B</td>\n",
       "      <td>Other theft</td>\n",
       "      <td>Investigation complete; no suspect identified</td>\n",
       "    </tr>\n",
       "    <tr>\n",
       "      <th>4</th>\n",
       "      <td>3c88c9532369f734b808e9a12fe4eb477d46f6a0914dab...</td>\n",
       "      <td>2020-01</td>\n",
       "      <td>Hertfordshire Constabulary</td>\n",
       "      <td>Hertfordshire Constabulary</td>\n",
       "      <td>On or near Meadow Close</td>\n",
       "      <td>Barnet 004D</td>\n",
       "      <td>Violence and sexual offences</td>\n",
       "      <td>Unable to prosecute suspect</td>\n",
       "    </tr>\n",
       "  </tbody>\n",
       "</table>\n",
       "</div>"
      ],
      "text/plain": [
       "                                            Crime ID    Month                 Reported by                Falls within                 Location            LSOA name                    Crime type                          Last outcome category\n",
       "0  aee55a4328cf0afd21edd5675ec6012be2e88590d599a7...  2020-01  Hertfordshire Constabulary  Hertfordshire Constabulary         On or near B4506  Aylesbury Vale 009C     Criminal damage and arson  Investigation complete; no suspect identified\n",
       "1  bb98cd9921e97a9a91732fe6dc591aac1bd4dfbe796e14...  2020-01  Hertfordshire Constabulary  Hertfordshire Constabulary    On or near Lower Road  Aylesbury Vale 019A  Violence and sexual offences                      Status update unavailable\n",
       "2  d71f4c982666547c2b1c8103a97aba230f2a606b8ef5e2...  2020-01  Hertfordshire Constabulary  Hertfordshire Constabulary    On or near Tring Hill  Aylesbury Vale 021C                      Burglary  Investigation complete; no suspect identified\n",
       "3  260b88c1d30bf6a435f62f58618ebe2326923d1ccd7722...  2020-01  Hertfordshire Constabulary  Hertfordshire Constabulary  On or near Calvert Road          Barnet 001B                   Other theft  Investigation complete; no suspect identified\n",
       "4  3c88c9532369f734b808e9a12fe4eb477d46f6a0914dab...  2020-01  Hertfordshire Constabulary  Hertfordshire Constabulary  On or near Meadow Close          Barnet 004D  Violence and sexual offences                    Unable to prosecute suspect"
      ]
     },
     "execution_count": 65,
     "metadata": {},
     "output_type": "execute_result"
    }
   ],
   "source": [
    "street.head()"
   ]
  },
  {
   "cell_type": "code",
   "execution_count": 67,
   "metadata": {},
   "outputs": [
    {
     "data": {
      "text/html": [
       "<div>\n",
       "<style scoped>\n",
       "    .dataframe tbody tr th:only-of-type {\n",
       "        vertical-align: middle;\n",
       "    }\n",
       "\n",
       "    .dataframe tbody tr th {\n",
       "        vertical-align: top;\n",
       "    }\n",
       "\n",
       "    .dataframe thead th {\n",
       "        text-align: right;\n",
       "    }\n",
       "</style>\n",
       "<table border=\"1\" class=\"dataframe\">\n",
       "  <thead>\n",
       "    <tr style=\"text-align: right;\">\n",
       "      <th></th>\n",
       "      <th>Month</th>\n",
       "      <th>Reported by</th>\n",
       "      <th>Falls within</th>\n",
       "      <th>Location</th>\n",
       "      <th>LSOA name</th>\n",
       "      <th>Crime type</th>\n",
       "      <th>Last outcome category</th>\n",
       "    </tr>\n",
       "    <tr>\n",
       "      <th>Crime ID</th>\n",
       "      <th></th>\n",
       "      <th></th>\n",
       "      <th></th>\n",
       "      <th></th>\n",
       "      <th></th>\n",
       "      <th></th>\n",
       "      <th></th>\n",
       "    </tr>\n",
       "  </thead>\n",
       "  <tbody>\n",
       "    <tr>\n",
       "      <th>aee55a4328cf0afd21edd5675ec6012be2e88590d599a7abef1ac51c5f4d367b</th>\n",
       "      <td>2020-01</td>\n",
       "      <td>Hertfordshire Constabulary</td>\n",
       "      <td>Hertfordshire Constabulary</td>\n",
       "      <td>On or near B4506</td>\n",
       "      <td>Aylesbury Vale 009C</td>\n",
       "      <td>Criminal damage and arson</td>\n",
       "      <td>Investigation complete; no suspect identified</td>\n",
       "    </tr>\n",
       "    <tr>\n",
       "      <th>bb98cd9921e97a9a91732fe6dc591aac1bd4dfbe796e144c07eef26e047a50a0</th>\n",
       "      <td>2020-01</td>\n",
       "      <td>Hertfordshire Constabulary</td>\n",
       "      <td>Hertfordshire Constabulary</td>\n",
       "      <td>On or near Lower Road</td>\n",
       "      <td>Aylesbury Vale 019A</td>\n",
       "      <td>Violence and sexual offences</td>\n",
       "      <td>Status update unavailable</td>\n",
       "    </tr>\n",
       "    <tr>\n",
       "      <th>d71f4c982666547c2b1c8103a97aba230f2a606b8ef5e23a3fa91ddd1b5e345c</th>\n",
       "      <td>2020-01</td>\n",
       "      <td>Hertfordshire Constabulary</td>\n",
       "      <td>Hertfordshire Constabulary</td>\n",
       "      <td>On or near Tring Hill</td>\n",
       "      <td>Aylesbury Vale 021C</td>\n",
       "      <td>Burglary</td>\n",
       "      <td>Investigation complete; no suspect identified</td>\n",
       "    </tr>\n",
       "    <tr>\n",
       "      <th>260b88c1d30bf6a435f62f58618ebe2326923d1ccd7722b97412e81576fa782d</th>\n",
       "      <td>2020-01</td>\n",
       "      <td>Hertfordshire Constabulary</td>\n",
       "      <td>Hertfordshire Constabulary</td>\n",
       "      <td>On or near Calvert Road</td>\n",
       "      <td>Barnet 001B</td>\n",
       "      <td>Other theft</td>\n",
       "      <td>Investigation complete; no suspect identified</td>\n",
       "    </tr>\n",
       "    <tr>\n",
       "      <th>3c88c9532369f734b808e9a12fe4eb477d46f6a0914dab8b0a69a8dea743bb40</th>\n",
       "      <td>2020-01</td>\n",
       "      <td>Hertfordshire Constabulary</td>\n",
       "      <td>Hertfordshire Constabulary</td>\n",
       "      <td>On or near Meadow Close</td>\n",
       "      <td>Barnet 004D</td>\n",
       "      <td>Violence and sexual offences</td>\n",
       "      <td>Unable to prosecute suspect</td>\n",
       "    </tr>\n",
       "  </tbody>\n",
       "</table>\n",
       "</div>"
      ],
      "text/plain": [
       "                                                      Month                 Reported by                Falls within                 Location            LSOA name                    Crime type                          Last outcome category\n",
       "Crime ID                                                                                                                                                                                                                                      \n",
       "aee55a4328cf0afd21edd5675ec6012be2e88590d599a7a...  2020-01  Hertfordshire Constabulary  Hertfordshire Constabulary         On or near B4506  Aylesbury Vale 009C     Criminal damage and arson  Investigation complete; no suspect identified\n",
       "bb98cd9921e97a9a91732fe6dc591aac1bd4dfbe796e144...  2020-01  Hertfordshire Constabulary  Hertfordshire Constabulary    On or near Lower Road  Aylesbury Vale 019A  Violence and sexual offences                      Status update unavailable\n",
       "d71f4c982666547c2b1c8103a97aba230f2a606b8ef5e23...  2020-01  Hertfordshire Constabulary  Hertfordshire Constabulary    On or near Tring Hill  Aylesbury Vale 021C                      Burglary  Investigation complete; no suspect identified\n",
       "260b88c1d30bf6a435f62f58618ebe2326923d1ccd7722b...  2020-01  Hertfordshire Constabulary  Hertfordshire Constabulary  On or near Calvert Road          Barnet 001B                   Other theft  Investigation complete; no suspect identified\n",
       "3c88c9532369f734b808e9a12fe4eb477d46f6a0914dab8...  2020-01  Hertfordshire Constabulary  Hertfordshire Constabulary  On or near Meadow Close          Barnet 004D  Violence and sexual offences                    Unable to prosecute suspect"
      ]
     },
     "execution_count": 67,
     "metadata": {},
     "output_type": "execute_result"
    }
   ],
   "source": [
    "# We then use Crime ID as the index\n",
    "street.set_index('Crime ID',inplace=True)\n",
    "street.head()"
   ]
  },
  {
   "cell_type": "code",
   "execution_count": 71,
   "metadata": {},
   "outputs": [
    {
     "data": {
      "text/plain": [
       "(75182, 6)"
      ]
     },
     "execution_count": 71,
     "metadata": {},
     "output_type": "execute_result"
    }
   ],
   "source": [
    "# We can also get rid of 'Falls within' because we analyse data in 'Hertfordshire'\n",
    "street.drop('Falls within',axis=1, inplace=True)\n",
    "street.shape"
   ]
  },
  {
   "cell_type": "code",
   "execution_count": 72,
   "metadata": {},
   "outputs": [
    {
     "data": {
      "text/html": [
       "<div>\n",
       "<style scoped>\n",
       "    .dataframe tbody tr th:only-of-type {\n",
       "        vertical-align: middle;\n",
       "    }\n",
       "\n",
       "    .dataframe tbody tr th {\n",
       "        vertical-align: top;\n",
       "    }\n",
       "\n",
       "    .dataframe thead th {\n",
       "        text-align: right;\n",
       "    }\n",
       "</style>\n",
       "<table border=\"1\" class=\"dataframe\">\n",
       "  <thead>\n",
       "    <tr style=\"text-align: right;\">\n",
       "      <th></th>\n",
       "      <th>Month</th>\n",
       "      <th>Reported by</th>\n",
       "      <th>Location</th>\n",
       "      <th>LSOA name</th>\n",
       "      <th>Crime type</th>\n",
       "      <th>Last outcome category</th>\n",
       "    </tr>\n",
       "    <tr>\n",
       "      <th>Crime ID</th>\n",
       "      <th></th>\n",
       "      <th></th>\n",
       "      <th></th>\n",
       "      <th></th>\n",
       "      <th></th>\n",
       "      <th></th>\n",
       "    </tr>\n",
       "  </thead>\n",
       "  <tbody>\n",
       "    <tr>\n",
       "      <th>aee55a4328cf0afd21edd5675ec6012be2e88590d599a7abef1ac51c5f4d367b</th>\n",
       "      <td>2020-01</td>\n",
       "      <td>Hertfordshire Constabulary</td>\n",
       "      <td>On or near B4506</td>\n",
       "      <td>Aylesbury Vale 009C</td>\n",
       "      <td>Criminal damage and arson</td>\n",
       "      <td>Investigation complete; no suspect identified</td>\n",
       "    </tr>\n",
       "    <tr>\n",
       "      <th>bb98cd9921e97a9a91732fe6dc591aac1bd4dfbe796e144c07eef26e047a50a0</th>\n",
       "      <td>2020-01</td>\n",
       "      <td>Hertfordshire Constabulary</td>\n",
       "      <td>On or near Lower Road</td>\n",
       "      <td>Aylesbury Vale 019A</td>\n",
       "      <td>Violence and sexual offences</td>\n",
       "      <td>Status update unavailable</td>\n",
       "    </tr>\n",
       "    <tr>\n",
       "      <th>d71f4c982666547c2b1c8103a97aba230f2a606b8ef5e23a3fa91ddd1b5e345c</th>\n",
       "      <td>2020-01</td>\n",
       "      <td>Hertfordshire Constabulary</td>\n",
       "      <td>On or near Tring Hill</td>\n",
       "      <td>Aylesbury Vale 021C</td>\n",
       "      <td>Burglary</td>\n",
       "      <td>Investigation complete; no suspect identified</td>\n",
       "    </tr>\n",
       "    <tr>\n",
       "      <th>260b88c1d30bf6a435f62f58618ebe2326923d1ccd7722b97412e81576fa782d</th>\n",
       "      <td>2020-01</td>\n",
       "      <td>Hertfordshire Constabulary</td>\n",
       "      <td>On or near Calvert Road</td>\n",
       "      <td>Barnet 001B</td>\n",
       "      <td>Other theft</td>\n",
       "      <td>Investigation complete; no suspect identified</td>\n",
       "    </tr>\n",
       "    <tr>\n",
       "      <th>3c88c9532369f734b808e9a12fe4eb477d46f6a0914dab8b0a69a8dea743bb40</th>\n",
       "      <td>2020-01</td>\n",
       "      <td>Hertfordshire Constabulary</td>\n",
       "      <td>On or near Meadow Close</td>\n",
       "      <td>Barnet 004D</td>\n",
       "      <td>Violence and sexual offences</td>\n",
       "      <td>Unable to prosecute suspect</td>\n",
       "    </tr>\n",
       "  </tbody>\n",
       "</table>\n",
       "</div>"
      ],
      "text/plain": [
       "                                                      Month                 Reported by                 Location            LSOA name                    Crime type                          Last outcome category\n",
       "Crime ID                                                                                                                                                                                                          \n",
       "aee55a4328cf0afd21edd5675ec6012be2e88590d599a7a...  2020-01  Hertfordshire Constabulary         On or near B4506  Aylesbury Vale 009C     Criminal damage and arson  Investigation complete; no suspect identified\n",
       "bb98cd9921e97a9a91732fe6dc591aac1bd4dfbe796e144...  2020-01  Hertfordshire Constabulary    On or near Lower Road  Aylesbury Vale 019A  Violence and sexual offences                      Status update unavailable\n",
       "d71f4c982666547c2b1c8103a97aba230f2a606b8ef5e23...  2020-01  Hertfordshire Constabulary    On or near Tring Hill  Aylesbury Vale 021C                      Burglary  Investigation complete; no suspect identified\n",
       "260b88c1d30bf6a435f62f58618ebe2326923d1ccd7722b...  2020-01  Hertfordshire Constabulary  On or near Calvert Road          Barnet 001B                   Other theft  Investigation complete; no suspect identified\n",
       "3c88c9532369f734b808e9a12fe4eb477d46f6a0914dab8...  2020-01  Hertfordshire Constabulary  On or near Meadow Close          Barnet 004D  Violence and sexual offences                    Unable to prosecute suspect"
      ]
     },
     "execution_count": 72,
     "metadata": {},
     "output_type": "execute_result"
    }
   ],
   "source": [
    "street.head()"
   ]
  },
  {
   "cell_type": "code",
   "execution_count": 74,
   "metadata": {},
   "outputs": [
    {
     "data": {
      "text/plain": [
       "Violence and sexual offences    28589\n",
       "Criminal damage and arson        7621\n",
       "Vehicle crime                    7270\n",
       "Other theft                      7149\n",
       "Shoplifting                      6577\n",
       "Public order                     5750\n",
       "Burglary                         4282\n",
       "Drugs                            2864\n",
       "Other crime                      1568\n",
       "Bicycle theft                    1317\n",
       "Theft from the person             825\n",
       "Robbery                           762\n",
       "Possession of weapons             608\n",
       "Name: Crime type, dtype: int64"
      ]
     },
     "execution_count": 74,
     "metadata": {},
     "output_type": "execute_result"
    }
   ],
   "source": [
    "street['Crime type'].value_counts()"
   ]
  },
  {
   "cell_type": "code",
   "execution_count": 75,
   "metadata": {},
   "outputs": [
    {
     "data": {
      "text/plain": [
       "Violence and sexual offences    0.380264\n",
       "Criminal damage and arson       0.101367\n",
       "Vehicle crime                   0.096699\n",
       "Other theft                     0.095089\n",
       "Shoplifting                     0.087481\n",
       "Public order                    0.076481\n",
       "Burglary                        0.056955\n",
       "Drugs                           0.038094\n",
       "Other crime                     0.020856\n",
       "Bicycle theft                   0.017517\n",
       "Theft from the person           0.010973\n",
       "Robbery                         0.010135\n",
       "Possession of weapons           0.008087\n",
       "Name: Crime type, dtype: float64"
      ]
     },
     "execution_count": 75,
     "metadata": {},
     "output_type": "execute_result"
    }
   ],
   "source": [
    "street['Crime type'].value_counts(normalize=True)"
   ]
  },
  {
   "cell_type": "code",
   "execution_count": 76,
   "metadata": {},
   "outputs": [
    {
     "data": {
      "text/plain": [
       "Stevenage 008D               1197\n",
       "Watford 009C                  990\n",
       "Dacorum 015D                  921\n",
       "Watford 009B                  807\n",
       "Stevenage 011D                594\n",
       "                             ... \n",
       "Central Bedfordshire 026A       1\n",
       "Waltham Forest 022A             1\n",
       "Enfield 011B                    1\n",
       "South Bucks 001D                1\n",
       "Stafford 009B                   1\n",
       "Name: LSOA name, Length: 1302, dtype: int64"
      ]
     },
     "execution_count": 76,
     "metadata": {},
     "output_type": "execute_result"
    }
   ],
   "source": [
    "street['LSOA name'].value_counts()"
   ]
  },
  {
   "cell_type": "code",
   "execution_count": 77,
   "metadata": {
    "scrolled": true
   },
   "outputs": [
    {
     "data": {
      "text/plain": [
       "Stevenage 008D               0.015921\n",
       "Watford 009C                 0.013168\n",
       "Dacorum 015D                 0.012250\n",
       "Watford 009B                 0.010734\n",
       "Stevenage 011D               0.007901\n",
       "                               ...   \n",
       "Central Bedfordshire 026A    0.000013\n",
       "Waltham Forest 022A          0.000013\n",
       "Enfield 011B                 0.000013\n",
       "South Bucks 001D             0.000013\n",
       "Stafford 009B                0.000013\n",
       "Name: LSOA name, Length: 1302, dtype: float64"
      ]
     },
     "execution_count": 77,
     "metadata": {},
     "output_type": "execute_result"
    }
   ],
   "source": [
    "street['LSOA name'].value_counts(normalize=True)"
   ]
  },
  {
   "cell_type": "markdown",
   "metadata": {},
   "source": [
    "- Observation: It appears that the above 4 areas: Stevenage 008D/Watford 009C/Dacorum 015D/Watford 009B have the most of troubles occur"
   ]
  },
  {
   "cell_type": "code",
   "execution_count": 102,
   "metadata": {
    "scrolled": true
   },
   "outputs": [
    {
     "data": {
      "text/plain": [
       "LSOA name            Crime type                  \n",
       "Stevenage 008D       Violence and sexual offences    375\n",
       "Watford 009C         Violence and sexual offences    373\n",
       "Dacorum 015D         Shoplifting                     283\n",
       "Stevenage 002E       Violence and sexual offences    282\n",
       "Watford 009B         Shoplifting                     248\n",
       "                                                    ... \n",
       "Hertsmere 011D       Shoplifting                       1\n",
       "                     Robbery                           1\n",
       "                     Bicycle theft                     1\n",
       "Hertsmere 011C       Robbery                           1\n",
       "Aylesbury Vale 002D  Public order                      1\n",
       "Name: Crime type, Length: 7457, dtype: int64"
      ]
     },
     "execution_count": 102,
     "metadata": {},
     "output_type": "execute_result"
    }
   ],
   "source": [
    "street.groupby('LSOA name')['Crime type'].value_counts().sort_values(ascending=False)"
   ]
  },
  {
   "cell_type": "code",
   "execution_count": null,
   "metadata": {},
   "outputs": [],
   "source": [
    "### Observation: \n",
    "- The worst crime is Stevenage 008D with violence and sexual offences, Watford 009C with violence and sexual offences, etc\n",
    "\n"
   ]
  },
  {
   "cell_type": "code",
   "execution_count": 106,
   "metadata": {},
   "outputs": [
    {
     "data": {
      "text/plain": [
       "(8137, 6)"
      ]
     },
     "execution_count": 106,
     "metadata": {},
     "output_type": "execute_result"
    }
   ],
   "source": [
    "street_st_albans = street[street['LSOA name'].str.contains('St Albans')]\n",
    "\n",
    "street_st_albans.shape"
   ]
  },
  {
   "cell_type": "code",
   "execution_count": 108,
   "metadata": {},
   "outputs": [
    {
     "data": {
      "text/html": [
       "<div>\n",
       "<style scoped>\n",
       "    .dataframe tbody tr th:only-of-type {\n",
       "        vertical-align: middle;\n",
       "    }\n",
       "\n",
       "    .dataframe tbody tr th {\n",
       "        vertical-align: top;\n",
       "    }\n",
       "\n",
       "    .dataframe thead th {\n",
       "        text-align: right;\n",
       "    }\n",
       "</style>\n",
       "<table border=\"1\" class=\"dataframe\">\n",
       "  <thead>\n",
       "    <tr style=\"text-align: right;\">\n",
       "      <th></th>\n",
       "      <th>Month</th>\n",
       "      <th>Reported by</th>\n",
       "      <th>Location</th>\n",
       "      <th>LSOA name</th>\n",
       "      <th>Crime type</th>\n",
       "      <th>Last outcome category</th>\n",
       "    </tr>\n",
       "    <tr>\n",
       "      <th>Crime ID</th>\n",
       "      <th></th>\n",
       "      <th></th>\n",
       "      <th></th>\n",
       "      <th></th>\n",
       "      <th></th>\n",
       "      <th></th>\n",
       "    </tr>\n",
       "  </thead>\n",
       "  <tbody>\n",
       "    <tr>\n",
       "      <th>a23387538313f6db54c35ae35d0067a88565d3d9308ead15988642316f7031d3</th>\n",
       "      <td>2020-01</td>\n",
       "      <td>Hertfordshire Constabulary</td>\n",
       "      <td>On or near Harpenden Rise</td>\n",
       "      <td>St Albans 001A</td>\n",
       "      <td>Other theft</td>\n",
       "      <td>Investigation complete; no suspect identified</td>\n",
       "    </tr>\n",
       "    <tr>\n",
       "      <th>490948d8b4f88bd29ae031eb4844c09412cfcc190d7bdd0f23ccd2c89ed8fe7e</th>\n",
       "      <td>2020-01</td>\n",
       "      <td>Hertfordshire Constabulary</td>\n",
       "      <td>On or near Park Mount</td>\n",
       "      <td>St Albans 001A</td>\n",
       "      <td>Other theft</td>\n",
       "      <td>Status update unavailable</td>\n",
       "    </tr>\n",
       "    <tr>\n",
       "      <th>5f4df184a0a851f9f9f6e99f4a1673fe5cf9255fbd62c93b9ceb6c30e1453fb0</th>\n",
       "      <td>2020-01</td>\n",
       "      <td>Hertfordshire Constabulary</td>\n",
       "      <td>On or near Harpenden Rise</td>\n",
       "      <td>St Albans 001A</td>\n",
       "      <td>Public order</td>\n",
       "      <td>Unable to prosecute suspect</td>\n",
       "    </tr>\n",
       "    <tr>\n",
       "      <th>fdc7ab15584ef7554ebaf3c5f7e51836cb2e5317a1dbc924056112be6e5b5712</th>\n",
       "      <td>2020-01</td>\n",
       "      <td>Hertfordshire Constabulary</td>\n",
       "      <td>On or near Luton Road</td>\n",
       "      <td>St Albans 001A</td>\n",
       "      <td>Vehicle crime</td>\n",
       "      <td>Investigation complete; no suspect identified</td>\n",
       "    </tr>\n",
       "    <tr>\n",
       "      <th>b190c5fbc4f2261e131036f2a67a8b97dda91b0406b01acdd078a95e047c8248</th>\n",
       "      <td>2020-01</td>\n",
       "      <td>Hertfordshire Constabulary</td>\n",
       "      <td>On or near Park Rise Close</td>\n",
       "      <td>St Albans 001A</td>\n",
       "      <td>Vehicle crime</td>\n",
       "      <td>Investigation complete; no suspect identified</td>\n",
       "    </tr>\n",
       "  </tbody>\n",
       "</table>\n",
       "</div>"
      ],
      "text/plain": [
       "                                                      Month                 Reported by                    Location       LSOA name     Crime type                          Last outcome category\n",
       "Crime ID                                                                                                                                                                                         \n",
       "a23387538313f6db54c35ae35d0067a88565d3d9308ead1...  2020-01  Hertfordshire Constabulary   On or near Harpenden Rise  St Albans 001A    Other theft  Investigation complete; no suspect identified\n",
       "490948d8b4f88bd29ae031eb4844c09412cfcc190d7bdd0...  2020-01  Hertfordshire Constabulary       On or near Park Mount  St Albans 001A    Other theft                      Status update unavailable\n",
       "5f4df184a0a851f9f9f6e99f4a1673fe5cf9255fbd62c93...  2020-01  Hertfordshire Constabulary   On or near Harpenden Rise  St Albans 001A   Public order                    Unable to prosecute suspect\n",
       "fdc7ab15584ef7554ebaf3c5f7e51836cb2e5317a1dbc92...  2020-01  Hertfordshire Constabulary       On or near Luton Road  St Albans 001A  Vehicle crime  Investigation complete; no suspect identified\n",
       "b190c5fbc4f2261e131036f2a67a8b97dda91b0406b01ac...  2020-01  Hertfordshire Constabulary  On or near Park Rise Close  St Albans 001A  Vehicle crime  Investigation complete; no suspect identified"
      ]
     },
     "execution_count": 108,
     "metadata": {},
     "output_type": "execute_result"
    }
   ],
   "source": [
    "street_st_albans.head()"
   ]
  },
  {
   "cell_type": "code",
   "execution_count": 119,
   "metadata": {
    "scrolled": true
   },
   "outputs": [
    {
     "data": {
      "text/plain": [
       "LSOA name       Crime type                  \n",
       "St Albans 012B  Shoplifting                     188\n",
       "St Albans 019C  Violence and sexual offences    176\n",
       "St Albans 012B  Violence and sexual offences    156\n",
       "St Albans 011D  Violence and sexual offences    119\n",
       "St Albans 003C  Shoplifting                      99\n",
       "                                               ... \n",
       "St Albans 009A  Bicycle theft                     1\n",
       "St Albans 014A  Other crime                       1\n",
       "                Public order                      1\n",
       "St Albans 008D  Theft from the person             1\n",
       "St Albans 014A  Burglary                          1\n",
       "Name: Crime type, Length: 840, dtype: int64"
      ]
     },
     "execution_count": 119,
     "metadata": {},
     "output_type": "execute_result"
    }
   ],
   "source": [
    "street_st_albans.groupby('LSOA name')['Crime type'].value_counts().sort_values(ascending=False)"
   ]
  },
  {
   "cell_type": "code",
   "execution_count": 112,
   "metadata": {},
   "outputs": [
    {
     "data": {
      "text/plain": [
       "Location                           Crime type                  \n",
       "On or near Supermarket             Shoplifting                     373\n",
       "On or near Petrol Station          Other theft                     133\n",
       "On or near Sports/Recreation Area  Violence and sexual offences    113\n",
       "On or near Petrol Station          Shoplifting                     106\n",
       "On or near Waddington Road         Shoplifting                      99\n",
       "                                                                  ... \n",
       "On or near Mile House Close        Other crime                       1\n",
       "                                   Drugs                             1\n",
       "On or near Midway                  Violence and sexual offences      1\n",
       "                                   Vehicle crime                     1\n",
       "On or near Lay Brook               Violence and sexual offences      1\n",
       "Name: Crime type, Length: 3226, dtype: int64"
      ]
     },
     "execution_count": 112,
     "metadata": {},
     "output_type": "execute_result"
    }
   ],
   "source": [
    "street_st_albans.groupby('Location')['Crime type'].value_counts().sort_values(ascending=False)"
   ]
  },
  {
   "cell_type": "code",
   "execution_count": 114,
   "metadata": {},
   "outputs": [],
   "source": [
    "st_albans_019C = street_st_albans[street_st_albans['LSOA name']=='St Albans 019C']"
   ]
  },
  {
   "cell_type": "code",
   "execution_count": 115,
   "metadata": {},
   "outputs": [
    {
     "data": {
      "text/html": [
       "<div>\n",
       "<style scoped>\n",
       "    .dataframe tbody tr th:only-of-type {\n",
       "        vertical-align: middle;\n",
       "    }\n",
       "\n",
       "    .dataframe tbody tr th {\n",
       "        vertical-align: top;\n",
       "    }\n",
       "\n",
       "    .dataframe thead th {\n",
       "        text-align: right;\n",
       "    }\n",
       "</style>\n",
       "<table border=\"1\" class=\"dataframe\">\n",
       "  <thead>\n",
       "    <tr style=\"text-align: right;\">\n",
       "      <th></th>\n",
       "      <th>Month</th>\n",
       "      <th>Reported by</th>\n",
       "      <th>Location</th>\n",
       "      <th>LSOA name</th>\n",
       "      <th>Crime type</th>\n",
       "      <th>Last outcome category</th>\n",
       "    </tr>\n",
       "    <tr>\n",
       "      <th>Crime ID</th>\n",
       "      <th></th>\n",
       "      <th></th>\n",
       "      <th></th>\n",
       "      <th></th>\n",
       "      <th></th>\n",
       "      <th></th>\n",
       "    </tr>\n",
       "  </thead>\n",
       "  <tbody>\n",
       "    <tr>\n",
       "      <th>20b7e53b97f821c93a90a13102a15059ab9b0ac4b1a6126a7de5e3fc3fa40829</th>\n",
       "      <td>2020-01</td>\n",
       "      <td>Hertfordshire Constabulary</td>\n",
       "      <td>On or near Heracles Close</td>\n",
       "      <td>St Albans 019C</td>\n",
       "      <td>Burglary</td>\n",
       "      <td>Investigation complete; no suspect identified</td>\n",
       "    </tr>\n",
       "    <tr>\n",
       "      <th>9fbf612186019e427fd1a84580421f0e220d1a789b315a5a900b0be13cfe91db</th>\n",
       "      <td>2020-01</td>\n",
       "      <td>Hertfordshire Constabulary</td>\n",
       "      <td>On or near Heracles Close</td>\n",
       "      <td>St Albans 019C</td>\n",
       "      <td>Burglary</td>\n",
       "      <td>Investigation complete; no suspect identified</td>\n",
       "    </tr>\n",
       "    <tr>\n",
       "      <th>993806a597e43fb6aff30319f837a745a3e7a2daac61b717bc6b5203ff22c584</th>\n",
       "      <td>2020-01</td>\n",
       "      <td>Hertfordshire Constabulary</td>\n",
       "      <td>On or near Heracles Close</td>\n",
       "      <td>St Albans 019C</td>\n",
       "      <td>Burglary</td>\n",
       "      <td>Investigation complete; no suspect identified</td>\n",
       "    </tr>\n",
       "    <tr>\n",
       "      <th>e86f486940f53151874e9fa18f1fcfe489df969f53920da077825611b7c462e6</th>\n",
       "      <td>2020-01</td>\n",
       "      <td>Hertfordshire Constabulary</td>\n",
       "      <td>On or near Hyde Lane</td>\n",
       "      <td>St Albans 019C</td>\n",
       "      <td>Drugs</td>\n",
       "      <td>Local resolution</td>\n",
       "    </tr>\n",
       "    <tr>\n",
       "      <th>acc2d3f738760f47f17ee56fb50068ca4c5e9719f1baf05efeef9a354a37924e</th>\n",
       "      <td>2020-01</td>\n",
       "      <td>Hertfordshire Constabulary</td>\n",
       "      <td>On or near Sports/Recreation Area</td>\n",
       "      <td>St Albans 019C</td>\n",
       "      <td>Drugs</td>\n",
       "      <td>Unable to prosecute suspect</td>\n",
       "    </tr>\n",
       "  </tbody>\n",
       "</table>\n",
       "</div>"
      ],
      "text/plain": [
       "                                                      Month                 Reported by                           Location       LSOA name Crime type                          Last outcome category\n",
       "Crime ID                                                                                                                                                                                            \n",
       "20b7e53b97f821c93a90a13102a15059ab9b0ac4b1a6126...  2020-01  Hertfordshire Constabulary          On or near Heracles Close  St Albans 019C   Burglary  Investigation complete; no suspect identified\n",
       "9fbf612186019e427fd1a84580421f0e220d1a789b315a5...  2020-01  Hertfordshire Constabulary          On or near Heracles Close  St Albans 019C   Burglary  Investigation complete; no suspect identified\n",
       "993806a597e43fb6aff30319f837a745a3e7a2daac61b71...  2020-01  Hertfordshire Constabulary          On or near Heracles Close  St Albans 019C   Burglary  Investigation complete; no suspect identified\n",
       "e86f486940f53151874e9fa18f1fcfe489df969f53920da...  2020-01  Hertfordshire Constabulary               On or near Hyde Lane  St Albans 019C      Drugs                               Local resolution\n",
       "acc2d3f738760f47f17ee56fb50068ca4c5e9719f1baf05...  2020-01  Hertfordshire Constabulary  On or near Sports/Recreation Area  St Albans 019C      Drugs                    Unable to prosecute suspect"
      ]
     },
     "execution_count": 115,
     "metadata": {},
     "output_type": "execute_result"
    }
   ],
   "source": [
    "st_albans_019C.head()"
   ]
  },
  {
   "cell_type": "code",
   "execution_count": 117,
   "metadata": {},
   "outputs": [
    {
     "data": {
      "text/plain": [
       "Location                           Crime type                  \n",
       "On or near Harper Lane             Violence and sexual offences    67\n",
       "On or near Sports/Recreation Area  Violence and sexual offences    60\n",
       "On or near Harper Lane             Public order                     7\n",
       "On or near Sports/Recreation Area  Public order                     6\n",
       "On or near Moorlands               Violence and sexual offences     6\n",
       "On or near Fairhaven               Violence and sexual offences     6\n",
       "On or near Sports/Recreation Area  Vehicle crime                    5\n",
       "On or near Frogmore                Violence and sexual offences     5\n",
       "On or near Park Street Lane        Violence and sexual offences     5\n",
       "On or near Harper Lane             Vehicle crime                    5\n",
       "On or near Handley Page Way        Other theft                      5\n",
       "On or near Sports/Recreation Area  Drugs                            4\n",
       "On or near Harper Lane             Criminal damage and arson        4\n",
       "On or near Radlett Road            Burglary                         4\n",
       "On or near Hampden Place           Vehicle crime                    4\n",
       "On or near Heracles Close          Burglary                         3\n",
       "On or near Houndswood Gate         Violence and sexual offences     3\n",
       "On or near Avian Avenue            Violence and sexual offences     3\n",
       "On or near Park Place              Violence and sexual offences     3\n",
       "On or near Sports/Recreation Area  Burglary                         3\n",
       "On or near Branch Road             Public order                     3\n",
       "                                   Vehicle crime                    3\n",
       "On or near Centaurus Square        Violence and sexual offences     3\n",
       "On or near Sports/Recreation Area  Criminal damage and arson        3\n",
       "On or near Branch Road             Violence and sexual offences     3\n",
       "On or near Harper Lane             Burglary                         2\n",
       "On or near Gidian Court            Violence and sexual offences     2\n",
       "On or near Harper Lane             Other theft                      2\n",
       "On or near Parking Area            Burglary                         2\n",
       "On or near Avian Avenue            Vehicle crime                    2\n",
       "On or near Gidian Court            Criminal damage and arson        2\n",
       "On or near Avian Avenue            Burglary                         2\n",
       "On or near Sycamore Drive          Violence and sexual offences     2\n",
       "On or near Handley Page Way        Vehicle crime                    2\n",
       "On or near The Beeches             Criminal damage and arson        2\n",
       "On or near Houndswood Gate         Other theft                      2\n",
       "On or near Hyde Lane               Criminal damage and arson        2\n",
       "On or near Fairhaven               Shoplifting                      2\n",
       "On or near Parking Area            Public order                     2\n",
       "On or near Moorlands               Criminal damage and arson        2\n",
       "On or near Park Street Lane        Criminal damage and arson        2\n",
       "On or near Fairhaven               Criminal damage and arson        2\n",
       "                                   Public order                     2\n",
       "On or near Hyde Lane               Violence and sexual offences     2\n",
       "On or near Curo Park               Bicycle theft                    1\n",
       "                                   Burglary                         1\n",
       "On or near Hampden Place           Burglary                         1\n",
       "On or near Fairhaven               Burglary                         1\n",
       "On or near Hampden Place           Theft from the person            1\n",
       "On or near Frogmore                Shoplifting                      1\n",
       "On or near Gidian Court            Vehicle crime                    1\n",
       "                                   Drugs                            1\n",
       "On or near Avian Avenue            Criminal damage and arson        1\n",
       "On or near Frogmore                Vehicle crime                    1\n",
       "On or near Frogmore Home Park      Public order                     1\n",
       "On or near Hampden Place           Other theft                      1\n",
       "On or near The Beeches             Violence and sexual offences     1\n",
       "On or near Hampden Place           Violence and sexual offences     1\n",
       "On or near Handley Page Way        Criminal damage and arson        1\n",
       "On or near Sports/Recreation Area  Theft from the person            1\n",
       "On or near Radlett Road            Violence and sexual offences     1\n",
       "                                   Other theft                      1\n",
       "                                   Other crime                      1\n",
       "On or near Parking Area            Violence and sexual offences     1\n",
       "                                   Other theft                      1\n",
       "                                   Criminal damage and arson        1\n",
       "On or near Park/Open Space         Violence and sexual offences     1\n",
       "                                   Public order                     1\n",
       "On or near Park Street Lane        Other theft                      1\n",
       "On or near Park Place              Vehicle crime                    1\n",
       "                                   Criminal damage and arson        1\n",
       "                                   Burglary                         1\n",
       "On or near Park Industrial Estate  Other theft                      1\n",
       "On or near Oliver Close            Vehicle crime                    1\n",
       "                                   Criminal damage and arson        1\n",
       "On or near Hyde Lane               Other crime                      1\n",
       "                                   Drugs                            1\n",
       "On or near Houndswood Gate         Burglary                         1\n",
       "On or near The Beeches             Other theft                      1\n",
       "On or near Harper Lane             Other crime                      1\n",
       "                                   Bicycle theft                    1\n",
       "On or near Handley Page Way        Violence and sexual offences     1\n",
       "On or near Heracles Close          Criminal damage and arson        1\n",
       "Name: Crime type, dtype: int64"
      ]
     },
     "execution_count": 117,
     "metadata": {},
     "output_type": "execute_result"
    }
   ],
   "source": [
    "st_albans_019C.groupby('Location')['Crime type'].value_counts().sort_values(ascending=False)"
   ]
  },
  {
   "cell_type": "markdown",
   "metadata": {},
   "source": [
    "### Q How does the area in St Albans compares in terms of crime type? "
   ]
  },
  {
   "cell_type": "code",
   "execution_count": 120,
   "metadata": {},
   "outputs": [
    {
     "data": {
      "text/html": [
       "<div>\n",
       "<style scoped>\n",
       "    .dataframe tbody tr th:only-of-type {\n",
       "        vertical-align: middle;\n",
       "    }\n",
       "\n",
       "    .dataframe tbody tr th {\n",
       "        vertical-align: top;\n",
       "    }\n",
       "\n",
       "    .dataframe thead th {\n",
       "        text-align: right;\n",
       "    }\n",
       "</style>\n",
       "<table border=\"1\" class=\"dataframe\">\n",
       "  <thead>\n",
       "    <tr style=\"text-align: right;\">\n",
       "      <th></th>\n",
       "      <th>Month</th>\n",
       "      <th>Reported by</th>\n",
       "      <th>Location</th>\n",
       "      <th>LSOA name</th>\n",
       "      <th>Crime type</th>\n",
       "      <th>Last outcome category</th>\n",
       "    </tr>\n",
       "    <tr>\n",
       "      <th>Crime ID</th>\n",
       "      <th></th>\n",
       "      <th></th>\n",
       "      <th></th>\n",
       "      <th></th>\n",
       "      <th></th>\n",
       "      <th></th>\n",
       "    </tr>\n",
       "  </thead>\n",
       "  <tbody>\n",
       "    <tr>\n",
       "      <th>a23387538313f6db54c35ae35d0067a88565d3d9308ead15988642316f7031d3</th>\n",
       "      <td>2020-01</td>\n",
       "      <td>Hertfordshire Constabulary</td>\n",
       "      <td>On or near Harpenden Rise</td>\n",
       "      <td>St Albans 001A</td>\n",
       "      <td>Other theft</td>\n",
       "      <td>Investigation complete; no suspect identified</td>\n",
       "    </tr>\n",
       "    <tr>\n",
       "      <th>490948d8b4f88bd29ae031eb4844c09412cfcc190d7bdd0f23ccd2c89ed8fe7e</th>\n",
       "      <td>2020-01</td>\n",
       "      <td>Hertfordshire Constabulary</td>\n",
       "      <td>On or near Park Mount</td>\n",
       "      <td>St Albans 001A</td>\n",
       "      <td>Other theft</td>\n",
       "      <td>Status update unavailable</td>\n",
       "    </tr>\n",
       "    <tr>\n",
       "      <th>5f4df184a0a851f9f9f6e99f4a1673fe5cf9255fbd62c93b9ceb6c30e1453fb0</th>\n",
       "      <td>2020-01</td>\n",
       "      <td>Hertfordshire Constabulary</td>\n",
       "      <td>On or near Harpenden Rise</td>\n",
       "      <td>St Albans 001A</td>\n",
       "      <td>Public order</td>\n",
       "      <td>Unable to prosecute suspect</td>\n",
       "    </tr>\n",
       "    <tr>\n",
       "      <th>fdc7ab15584ef7554ebaf3c5f7e51836cb2e5317a1dbc924056112be6e5b5712</th>\n",
       "      <td>2020-01</td>\n",
       "      <td>Hertfordshire Constabulary</td>\n",
       "      <td>On or near Luton Road</td>\n",
       "      <td>St Albans 001A</td>\n",
       "      <td>Vehicle crime</td>\n",
       "      <td>Investigation complete; no suspect identified</td>\n",
       "    </tr>\n",
       "    <tr>\n",
       "      <th>b190c5fbc4f2261e131036f2a67a8b97dda91b0406b01acdd078a95e047c8248</th>\n",
       "      <td>2020-01</td>\n",
       "      <td>Hertfordshire Constabulary</td>\n",
       "      <td>On or near Park Rise Close</td>\n",
       "      <td>St Albans 001A</td>\n",
       "      <td>Vehicle crime</td>\n",
       "      <td>Investigation complete; no suspect identified</td>\n",
       "    </tr>\n",
       "  </tbody>\n",
       "</table>\n",
       "</div>"
      ],
      "text/plain": [
       "                                                      Month                 Reported by                    Location       LSOA name     Crime type                          Last outcome category\n",
       "Crime ID                                                                                                                                                                                         \n",
       "a23387538313f6db54c35ae35d0067a88565d3d9308ead1...  2020-01  Hertfordshire Constabulary   On or near Harpenden Rise  St Albans 001A    Other theft  Investigation complete; no suspect identified\n",
       "490948d8b4f88bd29ae031eb4844c09412cfcc190d7bdd0...  2020-01  Hertfordshire Constabulary       On or near Park Mount  St Albans 001A    Other theft                      Status update unavailable\n",
       "5f4df184a0a851f9f9f6e99f4a1673fe5cf9255fbd62c93...  2020-01  Hertfordshire Constabulary   On or near Harpenden Rise  St Albans 001A   Public order                    Unable to prosecute suspect\n",
       "fdc7ab15584ef7554ebaf3c5f7e51836cb2e5317a1dbc92...  2020-01  Hertfordshire Constabulary       On or near Luton Road  St Albans 001A  Vehicle crime  Investigation complete; no suspect identified\n",
       "b190c5fbc4f2261e131036f2a67a8b97dda91b0406b01ac...  2020-01  Hertfordshire Constabulary  On or near Park Rise Close  St Albans 001A  Vehicle crime  Investigation complete; no suspect identified"
      ]
     },
     "execution_count": 120,
     "metadata": {},
     "output_type": "execute_result"
    }
   ],
   "source": [
    "street_st_albans.head()"
   ]
  },
  {
   "cell_type": "code",
   "execution_count": 136,
   "metadata": {},
   "outputs": [
    {
     "data": {
      "text/plain": [
       "Violence and sexual offences    2840\n",
       "Shoplifting                      891\n",
       "Vehicle crime                    888\n",
       "Criminal damage and arson        830\n",
       "Name: Crime type, dtype: int64"
      ]
     },
     "execution_count": 136,
     "metadata": {},
     "output_type": "execute_result"
    }
   ],
   "source": [
    "crime_type = street_st_albans['Crime type'].value_counts()[:4]\n",
    "crime_type"
   ]
  },
  {
   "cell_type": "code",
   "execution_count": 140,
   "metadata": {},
   "outputs": [
    {
     "data": {
      "text/plain": [
       "Index(['Violence and sexual offences', 'Shoplifting', 'Vehicle crime', 'Criminal damage and arson'], dtype='object')"
      ]
     },
     "execution_count": 140,
     "metadata": {},
     "output_type": "execute_result"
    }
   ],
   "source": [
    "crime_type=pd.DataFrame(crime_type)\n",
    "crime_type.index"
   ]
  },
  {
   "cell_type": "code",
   "execution_count": 138,
   "metadata": {},
   "outputs": [
    {
     "data": {
      "text/html": [
       "<div>\n",
       "<style scoped>\n",
       "    .dataframe tbody tr th:only-of-type {\n",
       "        vertical-align: middle;\n",
       "    }\n",
       "\n",
       "    .dataframe tbody tr th {\n",
       "        vertical-align: top;\n",
       "    }\n",
       "\n",
       "    .dataframe thead th {\n",
       "        text-align: right;\n",
       "    }\n",
       "</style>\n",
       "<table border=\"1\" class=\"dataframe\">\n",
       "  <thead>\n",
       "    <tr style=\"text-align: right;\">\n",
       "      <th></th>\n",
       "    </tr>\n",
       "  </thead>\n",
       "  <tbody>\n",
       "  </tbody>\n",
       "</table>\n",
       "</div>"
      ],
      "text/plain": [
       "Empty DataFrame\n",
       "Columns: []\n",
       "Index: []"
      ]
     },
     "execution_count": 138,
     "metadata": {},
     "output_type": "execute_result"
    }
   ],
   "source": [
    "# Create a crosstab between areas and crime type\n",
    "cross_zone = pd.crosstab(street_st_albans['LSOA name'],pd.DataFrame(crime_type))\n",
    "cross_zone"
   ]
  },
  {
   "cell_type": "code",
   "execution_count": 128,
   "metadata": {},
   "outputs": [
    {
     "data": {
      "text/html": [
       "<div>\n",
       "<style scoped>\n",
       "    .dataframe tbody tr th:only-of-type {\n",
       "        vertical-align: middle;\n",
       "    }\n",
       "\n",
       "    .dataframe tbody tr th {\n",
       "        vertical-align: top;\n",
       "    }\n",
       "\n",
       "    .dataframe thead th {\n",
       "        text-align: right;\n",
       "    }\n",
       "</style>\n",
       "<table border=\"1\" class=\"dataframe\">\n",
       "  <thead>\n",
       "    <tr style=\"text-align: right;\">\n",
       "      <th>Crime type</th>\n",
       "      <th>Bicycle theft</th>\n",
       "      <th>Burglary</th>\n",
       "      <th>Criminal damage and arson</th>\n",
       "      <th>Drugs</th>\n",
       "      <th>Other crime</th>\n",
       "      <th>Other theft</th>\n",
       "      <th>Possession of weapons</th>\n",
       "      <th>Public order</th>\n",
       "      <th>Robbery</th>\n",
       "      <th>Shoplifting</th>\n",
       "      <th>Theft from the person</th>\n",
       "      <th>Vehicle crime</th>\n",
       "      <th>Violence and sexual offences</th>\n",
       "    </tr>\n",
       "    <tr>\n",
       "      <th>LSOA name</th>\n",
       "      <th></th>\n",
       "      <th></th>\n",
       "      <th></th>\n",
       "      <th></th>\n",
       "      <th></th>\n",
       "      <th></th>\n",
       "      <th></th>\n",
       "      <th></th>\n",
       "      <th></th>\n",
       "      <th></th>\n",
       "      <th></th>\n",
       "      <th></th>\n",
       "      <th></th>\n",
       "    </tr>\n",
       "  </thead>\n",
       "  <tbody>\n",
       "    <tr>\n",
       "      <th>St Albans 019C</th>\n",
       "      <td>2</td>\n",
       "      <td>21</td>\n",
       "      <td>25</td>\n",
       "      <td>6</td>\n",
       "      <td>3</td>\n",
       "      <td>15</td>\n",
       "      <td>0</td>\n",
       "      <td>22</td>\n",
       "      <td>0</td>\n",
       "      <td>3</td>\n",
       "      <td>2</td>\n",
       "      <td>25</td>\n",
       "      <td>176</td>\n",
       "    </tr>\n",
       "    <tr>\n",
       "      <th>St Albans 012B</th>\n",
       "      <td>9</td>\n",
       "      <td>11</td>\n",
       "      <td>42</td>\n",
       "      <td>28</td>\n",
       "      <td>12</td>\n",
       "      <td>32</td>\n",
       "      <td>6</td>\n",
       "      <td>71</td>\n",
       "      <td>4</td>\n",
       "      <td>188</td>\n",
       "      <td>13</td>\n",
       "      <td>15</td>\n",
       "      <td>156</td>\n",
       "    </tr>\n",
       "    <tr>\n",
       "      <th>St Albans 011D</th>\n",
       "      <td>7</td>\n",
       "      <td>13</td>\n",
       "      <td>20</td>\n",
       "      <td>20</td>\n",
       "      <td>2</td>\n",
       "      <td>13</td>\n",
       "      <td>1</td>\n",
       "      <td>13</td>\n",
       "      <td>3</td>\n",
       "      <td>2</td>\n",
       "      <td>0</td>\n",
       "      <td>23</td>\n",
       "      <td>119</td>\n",
       "    </tr>\n",
       "    <tr>\n",
       "      <th>St Albans 015A</th>\n",
       "      <td>1</td>\n",
       "      <td>3</td>\n",
       "      <td>16</td>\n",
       "      <td>6</td>\n",
       "      <td>1</td>\n",
       "      <td>16</td>\n",
       "      <td>1</td>\n",
       "      <td>5</td>\n",
       "      <td>0</td>\n",
       "      <td>6</td>\n",
       "      <td>0</td>\n",
       "      <td>8</td>\n",
       "      <td>68</td>\n",
       "    </tr>\n",
       "    <tr>\n",
       "      <th>St Albans 009A</th>\n",
       "      <td>1</td>\n",
       "      <td>8</td>\n",
       "      <td>13</td>\n",
       "      <td>3</td>\n",
       "      <td>7</td>\n",
       "      <td>5</td>\n",
       "      <td>4</td>\n",
       "      <td>25</td>\n",
       "      <td>1</td>\n",
       "      <td>0</td>\n",
       "      <td>0</td>\n",
       "      <td>13</td>\n",
       "      <td>68</td>\n",
       "    </tr>\n",
       "    <tr>\n",
       "      <th>St Albans 012D</th>\n",
       "      <td>12</td>\n",
       "      <td>10</td>\n",
       "      <td>30</td>\n",
       "      <td>14</td>\n",
       "      <td>4</td>\n",
       "      <td>23</td>\n",
       "      <td>2</td>\n",
       "      <td>11</td>\n",
       "      <td>2</td>\n",
       "      <td>2</td>\n",
       "      <td>1</td>\n",
       "      <td>19</td>\n",
       "      <td>66</td>\n",
       "    </tr>\n",
       "    <tr>\n",
       "      <th>St Albans 007D</th>\n",
       "      <td>0</td>\n",
       "      <td>4</td>\n",
       "      <td>32</td>\n",
       "      <td>7</td>\n",
       "      <td>3</td>\n",
       "      <td>12</td>\n",
       "      <td>0</td>\n",
       "      <td>13</td>\n",
       "      <td>0</td>\n",
       "      <td>0</td>\n",
       "      <td>0</td>\n",
       "      <td>4</td>\n",
       "      <td>60</td>\n",
       "    </tr>\n",
       "    <tr>\n",
       "      <th>St Albans 016C</th>\n",
       "      <td>0</td>\n",
       "      <td>10</td>\n",
       "      <td>12</td>\n",
       "      <td>7</td>\n",
       "      <td>5</td>\n",
       "      <td>10</td>\n",
       "      <td>3</td>\n",
       "      <td>9</td>\n",
       "      <td>0</td>\n",
       "      <td>18</td>\n",
       "      <td>1</td>\n",
       "      <td>18</td>\n",
       "      <td>60</td>\n",
       "    </tr>\n",
       "    <tr>\n",
       "      <th>St Albans 016A</th>\n",
       "      <td>1</td>\n",
       "      <td>4</td>\n",
       "      <td>13</td>\n",
       "      <td>5</td>\n",
       "      <td>4</td>\n",
       "      <td>6</td>\n",
       "      <td>1</td>\n",
       "      <td>8</td>\n",
       "      <td>0</td>\n",
       "      <td>0</td>\n",
       "      <td>0</td>\n",
       "      <td>7</td>\n",
       "      <td>60</td>\n",
       "    </tr>\n",
       "    <tr>\n",
       "      <th>St Albans 014B</th>\n",
       "      <td>8</td>\n",
       "      <td>10</td>\n",
       "      <td>20</td>\n",
       "      <td>11</td>\n",
       "      <td>4</td>\n",
       "      <td>19</td>\n",
       "      <td>4</td>\n",
       "      <td>14</td>\n",
       "      <td>2</td>\n",
       "      <td>6</td>\n",
       "      <td>2</td>\n",
       "      <td>14</td>\n",
       "      <td>58</td>\n",
       "    </tr>\n",
       "    <tr>\n",
       "      <th>St Albans 012C</th>\n",
       "      <td>3</td>\n",
       "      <td>7</td>\n",
       "      <td>79</td>\n",
       "      <td>2</td>\n",
       "      <td>2</td>\n",
       "      <td>58</td>\n",
       "      <td>1</td>\n",
       "      <td>4</td>\n",
       "      <td>0</td>\n",
       "      <td>50</td>\n",
       "      <td>2</td>\n",
       "      <td>17</td>\n",
       "      <td>56</td>\n",
       "    </tr>\n",
       "    <tr>\n",
       "      <th>St Albans 011A</th>\n",
       "      <td>7</td>\n",
       "      <td>3</td>\n",
       "      <td>9</td>\n",
       "      <td>1</td>\n",
       "      <td>3</td>\n",
       "      <td>7</td>\n",
       "      <td>1</td>\n",
       "      <td>8</td>\n",
       "      <td>1</td>\n",
       "      <td>1</td>\n",
       "      <td>0</td>\n",
       "      <td>18</td>\n",
       "      <td>53</td>\n",
       "    </tr>\n",
       "    <tr>\n",
       "      <th>St Albans 009C</th>\n",
       "      <td>0</td>\n",
       "      <td>1</td>\n",
       "      <td>12</td>\n",
       "      <td>3</td>\n",
       "      <td>2</td>\n",
       "      <td>7</td>\n",
       "      <td>0</td>\n",
       "      <td>4</td>\n",
       "      <td>0</td>\n",
       "      <td>7</td>\n",
       "      <td>0</td>\n",
       "      <td>3</td>\n",
       "      <td>53</td>\n",
       "    </tr>\n",
       "    <tr>\n",
       "      <th>St Albans 020E</th>\n",
       "      <td>0</td>\n",
       "      <td>6</td>\n",
       "      <td>4</td>\n",
       "      <td>0</td>\n",
       "      <td>0</td>\n",
       "      <td>5</td>\n",
       "      <td>0</td>\n",
       "      <td>7</td>\n",
       "      <td>3</td>\n",
       "      <td>2</td>\n",
       "      <td>0</td>\n",
       "      <td>11</td>\n",
       "      <td>51</td>\n",
       "    </tr>\n",
       "    <tr>\n",
       "      <th>St Albans 018C</th>\n",
       "      <td>1</td>\n",
       "      <td>8</td>\n",
       "      <td>9</td>\n",
       "      <td>4</td>\n",
       "      <td>0</td>\n",
       "      <td>6</td>\n",
       "      <td>1</td>\n",
       "      <td>5</td>\n",
       "      <td>2</td>\n",
       "      <td>8</td>\n",
       "      <td>1</td>\n",
       "      <td>9</td>\n",
       "      <td>50</td>\n",
       "    </tr>\n",
       "  </tbody>\n",
       "</table>\n",
       "</div>"
      ],
      "text/plain": [
       "Crime type      Bicycle theft  Burglary  Criminal damage and arson  Drugs  Other crime  Other theft  Possession of weapons  Public order  Robbery  Shoplifting  Theft from the person  Vehicle crime  Violence and sexual offences\n",
       "LSOA name                                                                                                                                                                                                                         \n",
       "St Albans 019C              2        21                         25      6            3           15                      0            22        0            3                      2             25                           176\n",
       "St Albans 012B              9        11                         42     28           12           32                      6            71        4          188                     13             15                           156\n",
       "St Albans 011D              7        13                         20     20            2           13                      1            13        3            2                      0             23                           119\n",
       "St Albans 015A              1         3                         16      6            1           16                      1             5        0            6                      0              8                            68\n",
       "St Albans 009A              1         8                         13      3            7            5                      4            25        1            0                      0             13                            68\n",
       "St Albans 012D             12        10                         30     14            4           23                      2            11        2            2                      1             19                            66\n",
       "St Albans 007D              0         4                         32      7            3           12                      0            13        0            0                      0              4                            60\n",
       "St Albans 016C              0        10                         12      7            5           10                      3             9        0           18                      1             18                            60\n",
       "St Albans 016A              1         4                         13      5            4            6                      1             8        0            0                      0              7                            60\n",
       "St Albans 014B              8        10                         20     11            4           19                      4            14        2            6                      2             14                            58\n",
       "St Albans 012C              3         7                         79      2            2           58                      1             4        0           50                      2             17                            56\n",
       "St Albans 011A              7         3                          9      1            3            7                      1             8        1            1                      0             18                            53\n",
       "St Albans 009C              0         1                         12      3            2            7                      0             4        0            7                      0              3                            53\n",
       "St Albans 020E              0         6                          4      0            0            5                      0             7        3            2                      0             11                            51\n",
       "St Albans 018C              1         8                          9      4            0            6                      1             5        2            8                      1              9                            50"
      ]
     },
     "execution_count": 128,
     "metadata": {},
     "output_type": "execute_result"
    }
   ],
   "source": [
    "# Save the smaller table as crime_zone\n",
    "crime_zone=cross_zone.loc['St Albans 019C':'St Albans 018C']\n",
    "crime_zone"
   ]
  },
  {
   "cell_type": "code",
   "execution_count": 143,
   "metadata": {},
   "outputs": [
    {
     "data": {
      "text/html": [
       "<div>\n",
       "<style scoped>\n",
       "    .dataframe tbody tr th:only-of-type {\n",
       "        vertical-align: middle;\n",
       "    }\n",
       "\n",
       "    .dataframe tbody tr th {\n",
       "        vertical-align: top;\n",
       "    }\n",
       "\n",
       "    .dataframe thead th {\n",
       "        text-align: right;\n",
       "    }\n",
       "</style>\n",
       "<table border=\"1\" class=\"dataframe\">\n",
       "  <thead>\n",
       "    <tr style=\"text-align: right;\">\n",
       "      <th></th>\n",
       "      <th>Violence and sexual offences</th>\n",
       "      <th>Shoplifting</th>\n",
       "      <th>Vehicle crime</th>\n",
       "      <th>Criminal damage and arson</th>\n",
       "    </tr>\n",
       "    <tr>\n",
       "      <th>LSOA name</th>\n",
       "      <th></th>\n",
       "      <th></th>\n",
       "      <th></th>\n",
       "      <th></th>\n",
       "    </tr>\n",
       "  </thead>\n",
       "  <tbody>\n",
       "    <tr>\n",
       "      <th>St Albans 019C</th>\n",
       "      <td>176</td>\n",
       "      <td>3</td>\n",
       "      <td>25</td>\n",
       "      <td>25</td>\n",
       "    </tr>\n",
       "    <tr>\n",
       "      <th>St Albans 012B</th>\n",
       "      <td>156</td>\n",
       "      <td>188</td>\n",
       "      <td>15</td>\n",
       "      <td>42</td>\n",
       "    </tr>\n",
       "    <tr>\n",
       "      <th>St Albans 011D</th>\n",
       "      <td>119</td>\n",
       "      <td>2</td>\n",
       "      <td>23</td>\n",
       "      <td>20</td>\n",
       "    </tr>\n",
       "    <tr>\n",
       "      <th>St Albans 015A</th>\n",
       "      <td>68</td>\n",
       "      <td>6</td>\n",
       "      <td>8</td>\n",
       "      <td>16</td>\n",
       "    </tr>\n",
       "    <tr>\n",
       "      <th>St Albans 009A</th>\n",
       "      <td>68</td>\n",
       "      <td>0</td>\n",
       "      <td>13</td>\n",
       "      <td>13</td>\n",
       "    </tr>\n",
       "    <tr>\n",
       "      <th>St Albans 012D</th>\n",
       "      <td>66</td>\n",
       "      <td>2</td>\n",
       "      <td>19</td>\n",
       "      <td>30</td>\n",
       "    </tr>\n",
       "    <tr>\n",
       "      <th>St Albans 007D</th>\n",
       "      <td>60</td>\n",
       "      <td>0</td>\n",
       "      <td>4</td>\n",
       "      <td>32</td>\n",
       "    </tr>\n",
       "    <tr>\n",
       "      <th>St Albans 016C</th>\n",
       "      <td>60</td>\n",
       "      <td>18</td>\n",
       "      <td>18</td>\n",
       "      <td>12</td>\n",
       "    </tr>\n",
       "    <tr>\n",
       "      <th>St Albans 016A</th>\n",
       "      <td>60</td>\n",
       "      <td>0</td>\n",
       "      <td>7</td>\n",
       "      <td>13</td>\n",
       "    </tr>\n",
       "    <tr>\n",
       "      <th>St Albans 014B</th>\n",
       "      <td>58</td>\n",
       "      <td>6</td>\n",
       "      <td>14</td>\n",
       "      <td>20</td>\n",
       "    </tr>\n",
       "    <tr>\n",
       "      <th>St Albans 012C</th>\n",
       "      <td>56</td>\n",
       "      <td>50</td>\n",
       "      <td>17</td>\n",
       "      <td>79</td>\n",
       "    </tr>\n",
       "    <tr>\n",
       "      <th>St Albans 011A</th>\n",
       "      <td>53</td>\n",
       "      <td>1</td>\n",
       "      <td>18</td>\n",
       "      <td>9</td>\n",
       "    </tr>\n",
       "    <tr>\n",
       "      <th>St Albans 009C</th>\n",
       "      <td>53</td>\n",
       "      <td>7</td>\n",
       "      <td>3</td>\n",
       "      <td>12</td>\n",
       "    </tr>\n",
       "    <tr>\n",
       "      <th>St Albans 020E</th>\n",
       "      <td>51</td>\n",
       "      <td>2</td>\n",
       "      <td>11</td>\n",
       "      <td>4</td>\n",
       "    </tr>\n",
       "    <tr>\n",
       "      <th>St Albans 018C</th>\n",
       "      <td>50</td>\n",
       "      <td>8</td>\n",
       "      <td>9</td>\n",
       "      <td>9</td>\n",
       "    </tr>\n",
       "  </tbody>\n",
       "</table>\n",
       "</div>"
      ],
      "text/plain": [
       "                Violence and sexual offences  Shoplifting  Vehicle crime  Criminal damage and arson\n",
       "LSOA name                                                                                          \n",
       "St Albans 019C                           176            3             25                         25\n",
       "St Albans 012B                           156          188             15                         42\n",
       "St Albans 011D                           119            2             23                         20\n",
       "St Albans 015A                            68            6              8                         16\n",
       "St Albans 009A                            68            0             13                         13\n",
       "St Albans 012D                            66            2             19                         30\n",
       "St Albans 007D                            60            0              4                         32\n",
       "St Albans 016C                            60           18             18                         12\n",
       "St Albans 016A                            60            0              7                         13\n",
       "St Albans 014B                            58            6             14                         20\n",
       "St Albans 012C                            56           50             17                         79\n",
       "St Albans 011A                            53            1             18                          9\n",
       "St Albans 009C                            53            7              3                         12\n",
       "St Albans 020E                            51            2             11                          4\n",
       "St Albans 018C                            50            8              9                          9"
      ]
     },
     "execution_count": 143,
     "metadata": {},
     "output_type": "execute_result"
    }
   ],
   "source": [
    "crime_zone=crime_zone.loc[:,crime_type.index]\n",
    "crime_zone"
   ]
  },
  {
   "cell_type": "code",
   "execution_count": 144,
   "metadata": {
    "scrolled": true
   },
   "outputs": [
    {
     "data": {
      "text/plain": [
       "<AxesSubplot:xlabel='LSOA name'>"
      ]
     },
     "execution_count": 144,
     "metadata": {},
     "output_type": "execute_result"
    },
    {
     "data": {
      "image/png": "[encoded data removed]",
      "text/plain": [
       "<Figure size 1440x720 with 1 Axes>"
      ]
     },
     "metadata": {
      "needs_background": "light"
     },
     "output_type": "display_data"
    }
   ],
   "source": [
    "crime_zone.plot(kind='bar', figsize=(20,10))"
   ]
  },
  {
   "cell_type": "markdown",
   "metadata": {},
   "source": [
    "### Observation: \n",
    "- By just looking at above, looks like 'St Albans 012B', 'St Albans 019c' seem to be the areas to avoid. \n",
    "- Now I like to see the gragh which shows the total numbers of crime. A stacked graph is a good idea. "
   ]
  },
  {
   "cell_type": "code",
   "execution_count": 146,
   "metadata": {},
   "outputs": [
    {
     "data": {
      "text/plain": [
       "Text(0.5, 1.0, 'compare crime vs areas')"
      ]
     },
     "execution_count": 146,
     "metadata": {},
     "output_type": "execute_result"
    },
    {
     "data": {
      "image/png": "[encoded data removed]",
      "text/plain": [
       "<Figure size 1440x720 with 1 Axes>"
      ]
     },
     "metadata": {
      "needs_background": "light"
     },
     "output_type": "display_data"
    }
   ],
   "source": [
    "crime_zone.plot(kind='bar', figsize=(20,10),stacked=True)\n",
    "plt.xlabel('crime area')\n",
    "plt.ylabel('crime number') \n",
    "plt.title('compare crime vs areas')"
   ]
  },
  {
   "cell_type": "code",
   "execution_count": null,
   "metadata": {},
   "outputs": [],
   "source": [
    "### Observation: \n",
    "- From above stacked graph, we can see 'St Albans 012B' and 'St Albans 019c' and 'St Albans 012C' are the worst areas in terms of total crime\n",
    "- 'St Albans 019C' has high percentage focused on 'violance and sexual' but not so much on 'Shop lifting' suggests the area might be an open space with no residential buildings surrounding\n"
   ]
  },
  {
   "cell_type": "code",
   "execution_count": null,
   "metadata": {},
   "outputs": [],
   "source": []
  }
 ],
 "metadata": {
  "kernelspec": {
   "display_name": "Python 3",
   "language": "python",
   "name": "python3"
  },
  "language_info": {
   "codemirror_mode": {
    "name": "ipython",
    "version": 3
   },
   "file_extension": ".py",
   "mimetype": "text/x-python",
   "name": "python",
   "nbconvert_exporter": "python",
   "pygments_lexer": "ipython3",
   "version": "3.6.8"
  }
 },
 "nbformat": 4,
 "nbformat_minor": 2
}
